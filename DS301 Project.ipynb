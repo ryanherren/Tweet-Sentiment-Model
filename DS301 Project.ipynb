{
 "cells": [
  {
   "cell_type": "markdown",
   "metadata": {},
   "source": [
    "The object here is to train a machine learning model on a database of Tweets and use that model to predict sentiment of Tweets from a user, a hashtag, or any random variety of Tweets. "
   ]
  },
  {
   "cell_type": "markdown",
   "metadata": {},
   "source": [
    "@author Ryan Herren\n",
    "@author Tanner Dunn"
   ]
  },
  {
   "cell_type": "code",
   "execution_count": 21,
   "metadata": {},
   "outputs": [],
   "source": [
    "import tweepy\n",
    "import pandas as pd\n",
    "import numpy as np\n",
    "import json\n",
    "import os\n",
    "import yaml"
   ]
  },
  {
   "cell_type": "code",
   "execution_count": 22,
   "metadata": {},
   "outputs": [],
   "source": [
    "os.environ['python-bot-config'] = \"/Users/ryanherren/python-bot-config.yaml\"\n",
    "# os.environ['python-bot-config'] = \"/Users/tcdunn/python-bot-config.yaml\"\n",
    "# os.environ['python-bot-config'] = \"/Users/mariolgw/python-bot-config.yaml\""
   ]
  },
  {
   "cell_type": "code",
   "execution_count": 26,
   "metadata": {},
   "outputs": [],
   "source": [
    "try:\n",
    "    v_env = os.environ['python-bot-config']\n",
    "except:\n",
    "    print(\"Config file env variable is not set.\")\n",
    "    print(\"Set python-bot-config file\")\n",
    "    sys.exit(1)\n",
    "\n",
    "with open(v_env, \"r\") as yamlConfig:\n",
    "    cfg = yaml.safe_load(yamlConfig)"
   ]
  },
  {
   "cell_type": "code",
   "execution_count": 27,
   "metadata": {},
   "outputs": [],
   "source": [
    "# consumer_key = 'vs3T1V8OD8fjMcNWsmtG43ylH'\n",
    "# consumer_secret = 'KXBSHGpBZ3QQrqTFpVIOdghqNs6bzSyN0iqSAKUdi3vkjATNhp'\n",
    "# access_token = '1463243342570037249-01yUhVcZaBWWrTbSMsIw4iyApKMxvA'\n",
    "# access_token_secret = 'QywOsttbZtXwcdEoK05f6QjKH3uEbi4r0vWkIkSeQwB5f'\n",
    "\n",
    "consumer_key = cfg.get(\"TwitterAPI\").get(\"consumer_key\")\n",
    "consumer_secret = cfg.get(\"TwitterAPI\").get(\"consumer_secret\")\n",
    "access_token = cfg.get(\"TwitterAPI\").get(\"access_token\")\n",
    "access_token_secret = cfg.get(\"TwitterAPI\").get(\"access_token_secret\")"
   ]
  },
  {
   "cell_type": "code",
   "execution_count": 28,
   "metadata": {},
   "outputs": [],
   "source": [
    "auth = tweepy.OAuthHandler(consumer_key, consumer_secret)\n",
    "auth.set_access_token(access_token, access_token_secret)\n",
    " \n",
    "api = tweepy.API(auth, wait_on_rate_limit=True)"
   ]
  },
  {
   "cell_type": "code",
   "execution_count": 29,
   "metadata": {
    "scrolled": true
   },
   "outputs": [],
   "source": [
    "# # Iterates through and writes individual objects to the file, doesn't work when parsing file later\n",
    "# f = open(\"tweets.json\", \"w\")\n",
    "# for tweet in tweepy.Cursor(api.home_timeline).items(10):\n",
    "#     json.dump(tweet._json, f)\n",
    "# f.close()"
   ]
  },
  {
   "cell_type": "code",
   "execution_count": 44,
   "metadata": {},
   "outputs": [],
   "source": [
    "# # Evaluates all Tweets on a the bot's home timeline\n",
    "# # Dumps raw json\n",
    "# api.home_timeline(items=10)"
   ]
  },
  {
   "cell_type": "code",
   "execution_count": 37,
   "metadata": {},
   "outputs": [],
   "source": [
    "# Currently limited to 10 Tweets\n",
    "def get_tweets_by_user(user):\n",
    "    tweets = api.user_timeline(user, items=10)\n",
    "    my_list_of_dicts = []\n",
    "    for each_json_tweet in tweets:\n",
    "        my_list_of_dicts.append(each_json_tweet._json)\n",
    "    filename = user + '.txt'\n",
    "    with open(filename, 'w') as file:\n",
    "        file.write(json.dumps(my_list_of_dicts, indent=4))\n",
    "    my_demo_list = []\n",
    "    with open(filename, encoding='utf-8') as json_file:  \n",
    "        all_data = json.load(json_file)\n",
    "        for each_dictionary in all_data:\n",
    "            tweet_id = each_dictionary['id']\n",
    "            text = each_dictionary['text']\n",
    "            favorite_count = each_dictionary['favorite_count']\n",
    "            retweet_count = each_dictionary['retweet_count']\n",
    "            created_at = each_dictionary['created_at']\n",
    "            my_demo_list.append({'tweet_id': str(tweet_id),\n",
    "                                 'text': str(text),\n",
    "                                 'favorite_count': int(favorite_count),\n",
    "                                 'retweet_count': int(retweet_count),\n",
    "                                 'created_at': created_at,\n",
    "                                })\n",
    "            #print(my_demo_list)\n",
    "            tweet_json = pd.DataFrame(my_demo_list, columns = \n",
    "                                      ['tweet_id', 'text', \n",
    "                                       'favorite_count', 'retweet_count', \n",
    "                                       'created_at'])\n",
    "    return tweet_json"
   ]
  },
  {
   "cell_type": "code",
   "execution_count": 41,
   "metadata": {},
   "outputs": [],
   "source": [
    "ryan_tweets = get_tweets_by_user('ryanherren48')"
   ]
  },
  {
   "cell_type": "code",
   "execution_count": 42,
   "metadata": {},
   "outputs": [
    {
     "data": {
      "text/html": [
       "<div>\n",
       "<style scoped>\n",
       "    .dataframe tbody tr th:only-of-type {\n",
       "        vertical-align: middle;\n",
       "    }\n",
       "\n",
       "    .dataframe tbody tr th {\n",
       "        vertical-align: top;\n",
       "    }\n",
       "\n",
       "    .dataframe thead th {\n",
       "        text-align: right;\n",
       "    }\n",
       "</style>\n",
       "<table border=\"1\" class=\"dataframe\">\n",
       "  <thead>\n",
       "    <tr style=\"text-align: right;\">\n",
       "      <th></th>\n",
       "      <th>tweet_id</th>\n",
       "      <th>text</th>\n",
       "      <th>favorite_count</th>\n",
       "      <th>retweet_count</th>\n",
       "      <th>created_at</th>\n",
       "    </tr>\n",
       "  </thead>\n",
       "  <tbody>\n",
       "    <tr>\n",
       "      <th>0</th>\n",
       "      <td>1462910682446417927</td>\n",
       "      <td>RT @CycloneWBB: 4-0, 𝙖𝙣𝙙 𝙞𝙩 𝙛𝙚𝙚𝙡𝙨 𝙨𝙤 𝙜𝙤𝙤𝙙.\\n\\n...</td>\n",
       "      <td>0</td>\n",
       "      <td>4</td>\n",
       "      <td>Mon Nov 22 22:27:40 +0000 2021</td>\n",
       "    </tr>\n",
       "    <tr>\n",
       "      <th>1</th>\n",
       "      <td>1462512722348855297</td>\n",
       "      <td>RT @CycloneWBB: Nothin' like a road win with t...</td>\n",
       "      <td>0</td>\n",
       "      <td>14</td>\n",
       "      <td>Sun Nov 21 20:06:19 +0000 2021</td>\n",
       "    </tr>\n",
       "    <tr>\n",
       "      <th>2</th>\n",
       "      <td>1458307529482588162</td>\n",
       "      <td>RT @sixers: https://t.co/aD22KOvIqj</td>\n",
       "      <td>0</td>\n",
       "      <td>703</td>\n",
       "      <td>Wed Nov 10 05:36:23 +0000 2021</td>\n",
       "    </tr>\n",
       "    <tr>\n",
       "      <th>3</th>\n",
       "      <td>1455733675086209025</td>\n",
       "      <td>RT @McDonalds: i present to u the most importa...</td>\n",
       "      <td>0</td>\n",
       "      <td>95039</td>\n",
       "      <td>Wed Nov 03 03:08:49 +0000 2021</td>\n",
       "    </tr>\n",
       "    <tr>\n",
       "      <th>4</th>\n",
       "      <td>1452352048847106060</td>\n",
       "      <td>🎥🎥🎥 https://t.co/PcsV8SmqNy</td>\n",
       "      <td>3</td>\n",
       "      <td>0</td>\n",
       "      <td>Sun Oct 24 19:11:26 +0000 2021</td>\n",
       "    </tr>\n",
       "    <tr>\n",
       "      <th>5</th>\n",
       "      <td>1443266190797938705</td>\n",
       "      <td>RT @TheSmarmyBum: Here’s a sneak peek👀 on what...</td>\n",
       "      <td>0</td>\n",
       "      <td>5675</td>\n",
       "      <td>Wed Sep 29 17:27:29 +0000 2021</td>\n",
       "    </tr>\n",
       "    <tr>\n",
       "      <th>6</th>\n",
       "      <td>1440524360821854224</td>\n",
       "      <td>RT @CycloneWBB: All about the process. \\n\\n#Io...</td>\n",
       "      <td>0</td>\n",
       "      <td>8</td>\n",
       "      <td>Wed Sep 22 03:52:25 +0000 2021</td>\n",
       "    </tr>\n",
       "    <tr>\n",
       "      <th>7</th>\n",
       "      <td>1439460383874502663</td>\n",
       "      <td>Fun fact of the day: Iowa State Punter Corey D...</td>\n",
       "      <td>6</td>\n",
       "      <td>0</td>\n",
       "      <td>Sun Sep 19 05:24:34 +0000 2021</td>\n",
       "    </tr>\n",
       "    <tr>\n",
       "      <th>8</th>\n",
       "      <td>1437836753872773128</td>\n",
       "      <td>RT @CycloneMBB: Lights always shine brighter a...</td>\n",
       "      <td>0</td>\n",
       "      <td>11</td>\n",
       "      <td>Tue Sep 14 17:52:50 +0000 2021</td>\n",
       "    </tr>\n",
       "    <tr>\n",
       "      <th>9</th>\n",
       "      <td>1433882660078772224</td>\n",
       "      <td>RT @CycloneWBB: Practice is where the magic st...</td>\n",
       "      <td>0</td>\n",
       "      <td>9</td>\n",
       "      <td>Fri Sep 03 20:00:41 +0000 2021</td>\n",
       "    </tr>\n",
       "  </tbody>\n",
       "</table>\n",
       "</div>"
      ],
      "text/plain": [
       "              tweet_id                                               text  \\\n",
       "0  1462910682446417927  RT @CycloneWBB: 4-0, 𝙖𝙣𝙙 𝙞𝙩 𝙛𝙚𝙚𝙡𝙨 𝙨𝙤 𝙜𝙤𝙤𝙙.\\n\\n...   \n",
       "1  1462512722348855297  RT @CycloneWBB: Nothin' like a road win with t...   \n",
       "2  1458307529482588162                RT @sixers: https://t.co/aD22KOvIqj   \n",
       "3  1455733675086209025  RT @McDonalds: i present to u the most importa...   \n",
       "4  1452352048847106060                        🎥🎥🎥 https://t.co/PcsV8SmqNy   \n",
       "5  1443266190797938705  RT @TheSmarmyBum: Here’s a sneak peek👀 on what...   \n",
       "6  1440524360821854224  RT @CycloneWBB: All about the process. \\n\\n#Io...   \n",
       "7  1439460383874502663  Fun fact of the day: Iowa State Punter Corey D...   \n",
       "8  1437836753872773128  RT @CycloneMBB: Lights always shine brighter a...   \n",
       "9  1433882660078772224  RT @CycloneWBB: Practice is where the magic st...   \n",
       "\n",
       "   favorite_count  retweet_count                      created_at  \n",
       "0               0              4  Mon Nov 22 22:27:40 +0000 2021  \n",
       "1               0             14  Sun Nov 21 20:06:19 +0000 2021  \n",
       "2               0            703  Wed Nov 10 05:36:23 +0000 2021  \n",
       "3               0          95039  Wed Nov 03 03:08:49 +0000 2021  \n",
       "4               3              0  Sun Oct 24 19:11:26 +0000 2021  \n",
       "5               0           5675  Wed Sep 29 17:27:29 +0000 2021  \n",
       "6               0              8  Wed Sep 22 03:52:25 +0000 2021  \n",
       "7               6              0  Sun Sep 19 05:24:34 +0000 2021  \n",
       "8               0             11  Tue Sep 14 17:52:50 +0000 2021  \n",
       "9               0              9  Fri Sep 03 20:00:41 +0000 2021  "
      ]
     },
     "execution_count": 42,
     "metadata": {},
     "output_type": "execute_result"
    }
   ],
   "source": [
    "ryan_tweets.head(10)"
   ]
  },
  {
   "cell_type": "code",
   "execution_count": null,
   "metadata": {},
   "outputs": [],
   "source": []
  }
 ],
 "metadata": {
  "kernelspec": {
   "display_name": "Python 3",
   "language": "python",
   "name": "python3"
  },
  "language_info": {
   "codemirror_mode": {
    "name": "ipython",
    "version": 3
   },
   "file_extension": ".py",
   "mimetype": "text/x-python",
   "name": "python",
   "nbconvert_exporter": "python",
   "pygments_lexer": "ipython3",
   "version": "3.7.6"
  }
 },
 "nbformat": 4,
 "nbformat_minor": 4
}
